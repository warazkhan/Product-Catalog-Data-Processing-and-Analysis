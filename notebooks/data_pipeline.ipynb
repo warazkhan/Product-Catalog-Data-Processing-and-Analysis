{
 "cells": [
  {
   "cell_type": "markdown",
   "id": "7c49155c-31c1-43a4-8f1d-59db189c7f80",
   "metadata": {},
   "source": [
    "<div style=\"background-color: #f0f7ff; border-left: 6px solid #2980b9; padding: 24px; margin-bottom: 32px; border-radius: 0 12px 12px 0; box-shadow: 0 2px 8px rgba(41,128,185,0.08);\">\n",
    "\n",
    "<h1 style=\"color:#2980b9; font-size:2.3em; margin-bottom:0.2em;\">Data Quality as a Driver of Sales Growth</h1>\n",
    "<p style=\"font-size:1.15em; color:#34495e; font-weight:500;\">\n",
    "Building a Reliable Foundation: Python Data Pipeline for Product Catalog Analytics and Business Insights\n",
    "</p>\n",
    "</div>"
   ]
  },
  {
   "cell_type": "markdown",
   "id": "cfdd7400-0646-44ac-b88d-6517938150ac",
   "metadata": {},
   "source": [
    "<div style=\"background-color: #e8f4f8; border-left: 4px solid #3498db; padding: 15px; margin-bottom: 20px; border-radius: 0 8px 8px 0;\">\n",
    "\n",
    "## <span style=\"color:#2980b9;\">Objective</span>\n",
    "\n",
    "This notebook implements a Python-based data pipeline for **cleaning, standardizing, integrating, and exploring product catalog data** in the industrial supply sector.  \n",
    "The main objectives are:\n",
    "- **Transform raw, inconsistent data into a reliable, analysis-ready dataset**\n",
    "- **Enforce the presence and correctness of all join keys and essential fields**\n",
    "- **Provide a robust foundation for further analytics, dashboarding, and business intelligence**\n",
    "\n",
    "</div>\n",
    "\n",
    "<div style=\"background-color: #f5f5f5; border-left: 4px solid #3498db; padding: 15px; margin-bottom: 20px; border-radius: 0 8px 8px 0;\">\n",
    "\n",
    "## <span style=\"color:#2980b9;\">Background</span>\n",
    "\n",
    "The data originates from legacy exports and includes product descriptions, technical properties, and manufacturer information.  \n",
    "It contains various inconsistencies, missing values, and formatting issues that must be resolved before meaningful analysis.\n",
    "\n",
    "**Key cleaning and preparation steps include:**\n",
    "- Normalizing invalid values (e.g., `N/A`, `None`, empty strings, and zeros in physical dimensions) to `NaN`\n",
    "- Removing columns with 100% missing values\n",
    "- Enforcing the presence of join keys (`Articlenumber`, `Manufacturernumber`) and removing records with missing keys\n",
    "- Validating uniqueness of product-manufacturer pairs to ensure reliable joins\n",
    "\n",
    "**All subsequent analysis, feature engineering, and visualization are based on this cleaned, integrated dataset.**\n",
    "\n",
    "</div>\n",
    "\n",
    "<div style=\"background-color: #fff4e6; border-left: 4px solid #e67e22; padding: 15px; margin-bottom: 20px; border-radius: 0 8px 8px 0;\">\n",
    "\n",
    "## <span style=\"color:#e67e22;\">Dataset Characteristics</span>\n",
    "\n",
    "- **Source:** Raw CSV files (`product_descriptions.csv`, `product_properties.csv`, `manufacturers.csv`)\n",
    "- **Content:** Product identifiers, multilingual descriptions, technical properties, manufacturer data, engineered features (e.g., product volume, length category), and more\n",
    "- **Quality:** Incomplete, inconsistent, and duplicate records addressed; all join keys enforced; outliers reviewed and retained if legitimate\n",
    "\n",
    "<div style=\"display: grid; grid-template-columns: repeat(auto-fit, minmax(200px, 1fr)); gap: 10px; margin-top: 10px;\">\n",
    "\n",
    "<div style=\"background-color: #f5f5f5; padding: 10px; border-radius: 6px;\">\n",
    "<h3 style=\"color: #2980b9;\">Python Data Pipeline Steps</h3>\n",
    "\n",
    "1. **Data Loading & Exploration:** Import and inspect raw tables  \n",
    "2. **Standardization & Null Handling:** Normalize missing/invalid values and harmonize schema  \n",
    "3. **Duplicate & Outlier Review:** Identify and remove duplicates; review outliers for legitimacy  \n",
    "4. **Data Type Conversion:** Ensure columns have appropriate data types  \n",
    "5. **Data Integration:** Merge tables using required join keys  \n",
    "6. **Feature Engineering:** Create new fields for enhanced analysis \n",
    "7. **Descriptive Analysis & Visualization:** Generate statistics, distributions, and correlations  \n",
    "8. **Final Validation:** Confirm data quality and export cleaned, enriched dataset  \n",
    "</div>\n",
    "\n",
    "<div style=\"background-color: #f0f7ff; padding: 10px; border-radius: 6px;\">\n",
    "<h3 style=\"color: #27ae60;\">Pipeline Scope</h3>\n",
    "\n",
    "- **Data integrity:** All join keys present and valid  \n",
    "- **Schema standardization:** Consistent column names and types  \n",
    "- **Feature enrichment:** Engineered features for deeper insights  \n",
    "- **Ready for analysis:** Output is suitable for SQL queries, dashboarding, and reporting  \n",
    "</div>\n",
    "\n",
    "<div style=\"background-color: #fff0f0; padding: 10px; border-radius: 6px;\">\n",
    "<h3 style=\"color: #e67e22;\">Output</h3>\n",
    "\n",
    "- **Cleaned, analysis-ready product catalog table**  \n",
    "- **Engineered features and documented data quality checks**  \n",
    "- **Summary tables, visualizations, and insights**  \n",
    "- **Exported CSV for reproducibility and further use**  \n",
    "</div>\n",
    "</div>\n",
    "</div>\n",
    "\n",
    "<div style=\"background-color: #fff4e6; border-left: 4px solid #e74c3c; padding: 15px; margin-bottom: 20px; border-radius: 0 8px 8px 0;\">\n",
    "\n",
    "## <span style=\"color:#e74c3c;\">Expected Deliverables</span>\n",
    "\n",
    "1. **Python scripts/notebook:** Fully documented code for all cleaning, integration, and analysis steps  \n",
    "2. **Summary tables and visualizations:** Before/after statistics, engineered features, and key insights  \n",
    "3. **Exported cleaned and enriched dataset:** For use in further analysis and dashboarding  \n",
    "4. **Clear markdown cells:** Explaining methodology, rationale, and findings throughout the workflow  \n",
    "\n",
    "</div>\n",
    "\n",
    "<div style=\"background-color: #f5f5f5; padding: 15px; text-align: center; border-left: 4px solid #9b59b6; border-radius: 0 8px 8px 0;\">\n",
    "<p style=\"font-weight: bold; color: #2c3e50;\">\"A robust Python pipeline that transforms raw product catalog data into a foundation for actionable business insights and effective analytics.\"</p>\n",
    "</div>"
   ]
  },
  {
   "cell_type": "code",
   "execution_count": 1,
   "id": "59f150bd-969b-4c06-8788-d7d4c75cec27",
   "metadata": {},
   "outputs": [],
   "source": [
    "import sys\n",
    "import os\n",
    "\n",
    "srcPath = os.path.abspath(\"../src\")\n",
    "if srcPath not in sys.path:\n",
    "    sys.path.append(srcPath)\n",
    "\n",
    "import logging\n",
    "\n",
    "logging.basicConfig(\n",
    "    level=logging.INFO,  # or DEBUG, WARNING, etc.\n",
    "    format='[%(levelname)s] %(message)s'\n",
    ")\n",
    "logger = logging.getLogger(__name__)"
   ]
  },
  {
   "cell_type": "code",
   "execution_count": null,
   "id": "4572e680-9f90-4011-be94-67bdeecd253c",
   "metadata": {},
   "outputs": [],
   "source": [
    "from config import manufacturersFile, productDescriptionsFile, productPropertiesFile, outputCleanedFile, badValues\n",
    "from ingest_datasets import loadCsv\n",
    "from clean import cleanBadValues, dropRowsMissingKeys, dropFullyNullColumns\n",
    "from merge import mergeCatalogTables\n",
    "from engineer import engineerFeatures\n",
    "from analyze import describeDf, printDatasetInfo, getMissingValueReport, getDuplicateReport, describeNumerics\n",
    "from visualize import plotCorrelationHeatmap, plotFrequencyGridSmart, plotBoxplotGrid"
   ]
  },
  {
   "cell_type": "markdown",
   "id": "bcd70619-c25c-4761-97cc-b67d5c3416ea",
   "metadata": {},
   "source": [
    "<div style=\"background-color: #e8f4f8; border-left: 4px solid #3498db; padding: 12px; margin-bottom: 18px; border-radius: 0 8px 8px 0;\">\n",
    "\n",
    "## <span style=\"color:#2980b9;\">Manufacturer Dataset</span>\n",
    "\n",
    "This section focuses on loading and exploring the manufacturer data, which provides essential reference information (IDs and names) for all manufacturers in the product catalog.  \n",
    "I will inspect its structure, check for missing or duplicate entries, and prepare it for integration with product records.\n",
    "\n",
    "</div>"
   ]
  },
  {
   "cell_type": "markdown",
   "id": "aacecb84-e2ec-4822-91dd-eb54101d41eb",
   "metadata": {},
   "source": [
    "<div style=\"background-color: #fff0f0; border-left: 4px solid #3498db; padding: 15px; margin-bottom: 20px; border-radius: 0 8px 8px 0;\">\n",
    "\n",
    "### Data Loading and Initial Exploration\n",
    "</div>"
   ]
  },
  {
   "cell_type": "code",
   "execution_count": null,
   "id": "9944ffba-d10c-40a5-b49a-08734cf63a29",
   "metadata": {},
   "outputs": [],
   "source": [
    "manufacturersDf= loadCsv(manufacturersFile)\n",
    "manufacturersDf"
   ]
  },
  {
   "cell_type": "code",
   "execution_count": null,
   "id": "1aa1c1d4-98c7-449c-a047-1c6658c2b205",
   "metadata": {},
   "outputs": [],
   "source": [
    "printDatasetInfo(manufacturersDf)"
   ]
  },
  {
   "cell_type": "markdown",
   "id": "a2ff45c3-894a-42e5-9cb5-45b77ca2fa0b",
   "metadata": {},
   "source": [
    "<div style=\"background-color: #fff0f0; border-left: 4px solid #3498db; padding: 15px; margin-bottom: 20px; border-radius: 0 8px 8px 0;\">\n",
    "\n",
    "### Data Cleaning and Preprocessing\n",
    "</div>"
   ]
  },
  {
   "cell_type": "code",
   "execution_count": null,
   "id": "675a9836-427c-4162-a891-5d4c194b12aa",
   "metadata": {},
   "outputs": [],
   "source": [
    "cleanManufacturersDf = manufacturersDf.copy()"
   ]
  },
  {
   "cell_type": "code",
   "execution_count": null,
   "id": "68ddce94-5727-46f1-b8d4-534f6cd819a9",
   "metadata": {},
   "outputs": [],
   "source": [
    "cleanManufacturersDf = cleanBadValues(manufacturersDf, badValues)"
   ]
  },
  {
   "cell_type": "markdown",
   "id": "e3ea1ede-fb78-4f8a-97bf-1245cc0d0458",
   "metadata": {},
   "source": [
    "<div style=\"background-color: #f5f5f5; border-left: 4px solid #3498db; padding: 15px; margin-bottom: 20px; border-radius: 0 8px 8px 0;\">\n",
    "\n",
    "To ensure a high level of data quality, I created a flexible cleaning file that addresses common issues in both string and numeric columns:\n",
    "\n",
    "- **String Columns:**  \n",
    "  The function strips whitespace and replaces any values from a predefined list of \"bad values\" (such as `\"None\"`, `\"N/A\"`, empty strings, etc.) with `NaN`.\n",
    "\n",
    "- **Numeric Columns:**  \n",
    "  The function also checks for zero values in all numeric columns and replaces them with `NaN`. This is important for cases where a value of zero is not realistic (such as product dimensions), and likely indicates missing or invalid data.\n",
    "\n",
    "This approach ensures that both obvious and subtle data quality issues are addressed before analysis or visualization, resulting in a cleaner and more reliable dataset.\n",
    "\n",
    "</div>"
   ]
  },
  {
   "cell_type": "markdown",
   "id": "c2d4fd44-cd46-49b2-9517-5fc3eacdc1bb",
   "metadata": {},
   "source": [
    "<div style=\"background-color: #f5f5f5; border-left: 4px solid #3498db; padding: 15px; margin-bottom: 20px; border-radius: 0 8px 8px 0;\">\n",
    "\n",
    "After running this cleaning step on the manufacturer dataset, **no bad values were found**.  \n",
    "This confirms that the manufacturer data is already clean with respect to these common invalid entries.\n",
    "</div>"
   ]
  },
  {
   "cell_type": "code",
   "execution_count": null,
   "id": "c60affe1-806b-4b46-9317-9f0472df6284",
   "metadata": {},
   "outputs": [],
   "source": [
    "getMissingValueReport(cleanManufacturersDf)"
   ]
  },
  {
   "cell_type": "markdown",
   "id": "65afedf0-d70a-4fcf-b9c0-645393fe8688",
   "metadata": {},
   "source": [
    "<div style=\"background-color: #f5f5f5; border-left: 4px solid #3498db; padding: 15px; margin-bottom: 20px; border-radius: 0 8px 8px 0;\">\n",
    "\n",
    "After cleaning, I checked for missing values in the manufacturer dataset:\n",
    "\n",
    "All manufacturer names are present, but there are 24 records with missing `Manufacturernumber`.  \n",
    "Since the assignment requires all join keys to be present, these records will need to be removed before further analysis or merging with other datasets.\n",
    "\n",
    "</div>"
   ]
  },
  {
   "cell_type": "code",
   "execution_count": null,
   "id": "93955131-af2f-4834-a36f-a7ed30e52b26",
   "metadata": {},
   "outputs": [],
   "source": [
    "cleanManufacturersDf.dropna(subset=['Manufacturernumber'], inplace=True)"
   ]
  },
  {
   "cell_type": "markdown",
   "id": "528245b4-3ec6-42a4-bbf3-4ba2b86675c1",
   "metadata": {},
   "source": [
    "<div style=\"background-color: #fff0f0; border-left: 4px solid #3498db; padding: 15px; margin-bottom: 20px; border-radius: 0 8px 8px 0;\">\n",
    "\n",
    "### Descriptive Statistics and Data Quality Assessment\n",
    "</div>"
   ]
  },
  {
   "cell_type": "code",
   "execution_count": null,
   "id": "f32222c8-f21a-409a-afba-277748fda1f1",
   "metadata": {},
   "outputs": [],
   "source": [
    "describeDf(cleanManufacturersDf)"
   ]
  },
  {
   "cell_type": "markdown",
   "id": "fa35484d-a522-4dd9-94e9-e7b153eee63e",
   "metadata": {},
   "source": [
    "<div style=\"background-color: #f5f5f5; border-left: 4px solid #3498db; padding: 15px; margin-bottom: 20px; border-radius: 0 8px 8px 0;\">\n",
    " \n",
    "- Each manufacturer number is unique, indicating there are no duplicate Manufacturernumber in manufacture dataset.\n",
    "- The dataset covers 5 distinct manufacturers, with BOSCH being the most represented.\n",
    "- The distribution suggests some manufacturers have significantly more products or entries than others.\n",
    "\n",
    "</div>"
   ]
  },
  {
   "cell_type": "code",
   "execution_count": null,
   "id": "98e6697f-d87b-40c5-830e-a0690ac4534a",
   "metadata": {},
   "outputs": [],
   "source": [
    "cleanManufacturersDf"
   ]
  },
  {
   "cell_type": "markdown",
   "id": "67e95d77-c029-4e9b-9c56-42951ff2c388",
   "metadata": {},
   "source": [
    "<div style=\"background-color: #e8f4f8; border-left: 4px solid #3498db; padding: 12px; margin-bottom: 18px; border-radius: 0 8px 8px 0;\">\n",
    "\n",
    "## <span style=\"color:#2980b9;\">Product Description Dataset</span>\n",
    "\n",
    "This section focuses on the **product description dataset**, which contains multilingual descriptions for each product in the catalog.  \n",
    "I will load the data, inspect its structure, and perform initial checks for missing values, duplicates, and data consistency.\n",
    "</div>"
   ]
  },
  {
   "cell_type": "markdown",
   "id": "6ed24bea-e499-421b-bfce-df993b39b44f",
   "metadata": {},
   "source": [
    "<div style=\"background-color: #fff0f0; border-left: 4px solid #3498db; padding: 15px; margin-bottom: 20px; border-radius: 0 8px 8px 0;\">\n",
    "\n",
    "### Data Loading and Initial Exploration\n",
    "</div>"
   ]
  },
  {
   "cell_type": "code",
   "execution_count": null,
   "id": "cfded339-af9a-4ef9-9e6b-526a5c9277c9",
   "metadata": {},
   "outputs": [],
   "source": [
    "productDescriptionsDf= loadCsv(productDescriptionsFile)\n",
    "productDescriptionsDf"
   ]
  },
  {
   "cell_type": "code",
   "execution_count": null,
   "id": "9e8f2a85-48f8-4958-bcb5-dc22faaff378",
   "metadata": {},
   "outputs": [],
   "source": [
    "printDatasetInfo(productDescriptionsDf)"
   ]
  },
  {
   "cell_type": "markdown",
   "id": "537e447f-1fca-45e3-a1f9-a9313a452815",
   "metadata": {},
   "source": [
    "<div style=\"background-color: #fff0f0; border-left: 4px solid #3498db; padding: 15px; margin-bottom: 20px; border-radius: 0 8px 8px 0;\">\n",
    "\n",
    "### Data Cleaning and Preprocessing\n",
    "</div>"
   ]
  },
  {
   "cell_type": "code",
   "execution_count": null,
   "id": "b7b5ae7b-5d76-4bec-889c-d32d3534794b",
   "metadata": {},
   "outputs": [],
   "source": [
    "cleanProductDescriptionsDf = productDescriptionsDf.copy()"
   ]
  },
  {
   "cell_type": "code",
   "execution_count": null,
   "id": "69d4de7a-2f7d-4b8b-9d0c-ed46f8775d51",
   "metadata": {},
   "outputs": [],
   "source": [
    "cleanProductDescriptionsDf = cleanBadValues(productDescriptionsDf, badValues)"
   ]
  },
  {
   "cell_type": "markdown",
   "id": "65451a84-c61c-41ee-949d-04ad79a97868",
   "metadata": {},
   "source": [
    "<div style=\"background-color: #f5f5f5; border-left: 4px solid #3498db; padding: 15px; margin-bottom: 20px; border-radius: 0 8px 8px 0;\">\n",
    "\n",
    "Applied the `cleanBadValues` function to the product description dataset to identify and replace common invalid entries (such as `\"N/A\"`, `\"None\"`, empty strings, and other placeholders) with `NaN`.\n",
    "\n",
    "- No bad values were found in the product description dataset.  \n",
    "- This indicates that all entries are free from the predefined set of problematic values, and the dataset is already clean in this regard.\n",
    "</div>"
   ]
  },
  {
   "cell_type": "code",
   "execution_count": null,
   "id": "38b4202b-2dba-4e1f-be57-c413ffb62512",
   "metadata": {},
   "outputs": [],
   "source": [
    "getMissingValueReport(cleanProductDescriptionsDf)"
   ]
  },
  {
   "cell_type": "markdown",
   "id": "4f60cddb-d821-4983-95bc-36a1ac0bc92a",
   "metadata": {},
   "source": [
    "<div style=\"background-color: #f5f5f5; border-left: 4px solid #3498db; padding: 15px; margin-bottom: 20px; border-radius: 0 8px 8px 0;\">\n",
    "\n",
    "After cleaning, I checked for missing values in the product description dataset:\n",
    "\n",
    "- All records have valid article numbers and language codes.  \n",
    "- However, some description fields are missing for a subset of records-most notably, `Short description 2` and `Long description`. \n",
    "\n",
    "According to the assignment requirements, every record in the `product_descriptions` dataset must have a valid `Articlenumber` to ensure reliable joins with other tables. As confirmed in the missing values check, there are **zero missing values in the `Articlenumber` column**. No rows needed to be dropped to satisfy the join key requirement.\n",
    "</div>"
   ]
  },
  {
   "cell_type": "markdown",
   "id": "b7fd005c-a880-4b8f-b605-81ab9b3ea579",
   "metadata": {},
   "source": [
    "<div style=\"background-color: #fff0f0; border-left: 4px solid #3498db; padding: 15px; margin-bottom: 20px; border-radius: 0 8px 8px 0;\">\n",
    "\n",
    "### Descriptive Statistics and Data Quality Assessment\n",
    "</div>"
   ]
  },
  {
   "cell_type": "code",
   "execution_count": null,
   "id": "b04f5c28-fad5-4e5c-acb3-8a174fd598bb",
   "metadata": {},
   "outputs": [],
   "source": [
    "describeDf(productDescriptionsDf)"
   ]
  },
  {
   "cell_type": "markdown",
   "id": "63c336df-956c-4554-87a6-9637cc91ad81",
   "metadata": {},
   "source": [
    "<div style=\"background-color: #f5f5f5; border-left: 4px solid #3498db; padding: 15px; margin-bottom: 20px; border-radius: 0 8px 8px 0;\">\n",
    " \n",
    "- Most article numbers are unique, but a few are repeated, possibly indicating variants or duplicates.\n",
    "- The dataset includes two languages, with the majority of records in German (`de`).\n",
    "- Some descriptions are shared across multiple products, which may reflect similar or related items.\n",
    "\n",
    "</div>"
   ]
  },
  {
   "cell_type": "markdown",
   "id": "dfb25d4c-93af-4165-aba6-cd05bbf0ace8",
   "metadata": {},
   "source": [
    "<div style=\"background-color: #fff4e6; border-left: 4px solid #3498db; padding: 15px; margin-bottom: 20px; border-radius: 0 8px 8px 0;\">\n",
    "\n",
    "### Duplicate Analysis\n",
    "</div>"
   ]
  },
  {
   "cell_type": "code",
   "execution_count": null,
   "id": "b7ba439a-5fc1-4613-a77e-823f92386886",
   "metadata": {},
   "outputs": [],
   "source": [
    "dupCount, dupRows = getDuplicateReport(cleanProductDescriptionsDf, ['Articlenumber'])\n",
    "dupCount"
   ]
  },
  {
   "cell_type": "code",
   "execution_count": null,
   "id": "cd498342-a4f8-46a9-a9d4-fa19daa20718",
   "metadata": {},
   "outputs": [],
   "source": [
    "dupRows['Articlenumber'].value_counts()"
   ]
  },
  {
   "cell_type": "code",
   "execution_count": null,
   "id": "04eef6e0-2266-4155-8e73-50cb8d51e73d",
   "metadata": {},
   "outputs": [],
   "source": [
    "dupRows[['Articlenumber', 'Short description', 'Short description 2',\t'Long description', 'Language',]].sort_values('Articlenumber')"
   ]
  },
  {
   "cell_type": "markdown",
   "id": "f4dc7c89-6986-4321-a8b5-c85448adfc87",
   "metadata": {},
   "source": [
    "<div style=\"background-color: #f5f5f5; border-left: 4px solid #3498db; padding: 12px; margin-bottom: 18px; border-radius: 0 8px 8px 0;\">\n",
    "\n",
    "I checked for duplicate values in the `Articlenumber` column of the product description dataset:\n",
    "\n",
    "- **Number of duplicate Articlenumber entries:** 40\n",
    "- **List of duplicated Articlenumber values:**  \n",
    "  Each of these article numbers appears twice in the dataset.\n",
    "\n",
    "On further inspection, these duplicates are not exact copies. Instead, each duplicated `Articlenumber` corresponds to different language versions (typically German and English) of the same product.  \n",
    "For example:\n",
    "\n",
    "| Articlenumber | Language | Short description (sample)                    |\n",
    "|---------------|----------|-----------------------------------------------|\n",
    "| 06012A0400    | en       | Cordless band saw GCB 18V-63                  |\n",
    "| 06012A0400    | de       | Akku-Bandsäge GCB 18V-63                      |\n",
    "| ...           | ...      | ...                                           |\n",
    "\n",
    "- The presence of duplicates is expected due to the multilingual nature of the dataset.\n",
    "- Some product may have multiple description records (one per language). This multilingual structure is intentional and important, as it allows users to access product information in their preferred language. Therefore, these entries should be retained to support both German and English speaking users, and do not represent a data quality issue.\n",
    "</div>"
   ]
  },
  {
   "cell_type": "code",
   "execution_count": null,
   "id": "b05d086d-4558-45f6-a439-fdb7a6f45081",
   "metadata": {},
   "outputs": [],
   "source": [
    "cleanProductDescriptionsDf"
   ]
  },
  {
   "cell_type": "markdown",
   "id": "b61515d6-aa9c-4f33-8c6c-404c320f2fff",
   "metadata": {},
   "source": [
    "<div style=\"background-color: #e8f4f8; border-left: 4px solid #3498db; padding: 12px; margin-bottom: 18px; border-radius: 0 8px 8px 0;\">\n",
    "\n",
    "## <span style=\"color:#2980b9;\">Product Properties Dataset</span>\n",
    "\n",
    "This section covers the **product properties dataset**, which contains detailed technical attributes and specifications for each product in the catalog.  \n",
    "I will load the data, examine its structure, and perform initial checks for missing values, duplicates, and data consistency\n",
    "\n",
    "</div>"
   ]
  },
  {
   "cell_type": "code",
   "execution_count": null,
   "id": "d31feeed-9503-44a4-a84e-20495428fa9a",
   "metadata": {},
   "outputs": [],
   "source": [
    "productPropertiesDf= loadCsv(productPropertiesFile)\n",
    "productPropertiesDf"
   ]
  },
  {
   "cell_type": "code",
   "execution_count": null,
   "id": "9cf5098b-decc-4d12-ad8f-41ff07a191ce",
   "metadata": {},
   "outputs": [],
   "source": [
    "printDatasetInfo(productPropertiesDf)"
   ]
  },
  {
   "cell_type": "code",
   "execution_count": null,
   "id": "d256143f-e2ea-49dd-b1c0-b0da0a58e69c",
   "metadata": {},
   "outputs": [],
   "source": [
    "cleanProductPropertiesDf=productPropertiesDf.copy()"
   ]
  },
  {
   "cell_type": "code",
   "execution_count": null,
   "id": "40b809ee-6584-43a2-bd89-d2e266e5aa38",
   "metadata": {},
   "outputs": [],
   "source": [
    "cleanProductPropertiesDf = cleanBadValues(productPropertiesDf, badValues)"
   ]
  },
  {
   "cell_type": "markdown",
   "id": "c563aed7-a650-4c52-8563-9486535a6849",
   "metadata": {},
   "source": [
    "<div style=\"background-color: #f5f5f5; border-left: 4px solid #3498db; padding: 12px; margin-bottom: 18px; border-radius: 0 8px 8px 0;\">\n",
    "    \n",
    "I applied the `cleanBadValues` function to the product properties dataset to identify and replace common invalid entries (such as `\"N/A\"`, `\"None\"`, empty strings, and other placeholders) with `NaN`.\n",
    " \n",
    "- Bad values were detected and successfully replaced with `NaN` in the product properties dataset.  \n",
    "- This step ensures that all such problematic values are treated consistently as missing data, improving data quality for further analysis.\n",
    "\n",
    "</div>"
   ]
  },
  {
   "cell_type": "code",
   "execution_count": null,
   "id": "a9827804-47a3-474c-ba55-395dcdb0ba58",
   "metadata": {},
   "outputs": [],
   "source": [
    "getMissingValueReport(cleanProductPropertiesDf)"
   ]
  },
  {
   "cell_type": "markdown",
   "id": "ba3c2e2e-6e61-4fc5-939e-4d838573e5ec",
   "metadata": {},
   "source": [
    "<div style=\"background-color: #f5f5f5; border-left: 4px solid #3498db; padding: 12px; margin-bottom: 18px; border-radius: 0 8px 8px 0;\">\n",
    "\n",
    "After cleaning, I checked for missing values in the product properties dataset:\n",
    "\n",
    "- There are substantial missing values in several columns, especially in classification and feature fields (such as `Product category`, `Technical specifications`, `ECLASS`, `PROFICLASS`, etc.).  \n",
    "- Additionally, some key columns used for joining (`Manufacturernumber`, `Articlenumber`) also contain missing values.  \n",
    "- According to the assignment requirements, any records missing these join keys will need to be removed before further analysis.\n",
    "\n",
    "</div>"
   ]
  },
  {
   "cell_type": "code",
   "execution_count": null,
   "id": "a601ba5f-ffa6-40f3-b23c-e67a91297bff",
   "metadata": {},
   "outputs": [],
   "source": [
    "cleanProductPropertiesDf.dropna(subset=['Articlenumber','Manufacturernumber'], inplace=True)"
   ]
  },
  {
   "cell_type": "code",
   "execution_count": null,
   "id": "34a24043-190d-45de-9231-778a7be78416",
   "metadata": {},
   "outputs": [],
   "source": [
    "cleanProductPropertiesDf = dropFullyNullColumns(cleanProductPropertiesDf)"
   ]
  },
  {
   "cell_type": "markdown",
   "id": "60ae61bf-f48e-4fa1-bc9f-7b93a3ede30f",
   "metadata": {},
   "source": [
    "<div style=\"background-color: #f5f5f5; border-left: 4px solid #3498db; padding: 12px; margin-bottom: 18px; border-radius: 0 8px 8px 0;\">\n",
    "\n",
    "- Several columns in the product properties dataset are completely empty (contain only missing values).  \n",
    "- Since these columns provide no information for analysis, SQL queries, or dashboarding, I am dropping them from the cleaned dataset.  \n",
    "- This step improves data quality and ensures that all remaining columns are potentially useful for further analysis.\n",
    "\n",
    "</div>"
   ]
  },
  {
   "cell_type": "code",
   "execution_count": null,
   "id": "ea0a084f-7fed-4089-99d3-fc2411641d21",
   "metadata": {},
   "outputs": [],
   "source": [
    "describeDf(cleanProductPropertiesDf).style.background_gradient(cmap='Pastel2_r')"
   ]
  },
  {
   "cell_type": "markdown",
   "id": "82ad5b58-ab40-46b6-a086-6ac660165d84",
   "metadata": {},
   "source": [
    "<div style=\"background-color: #f5f5f5; border-left: 4px solid #3498db; padding: 12px; margin-bottom: 18px; border-radius: 0 8px 8px 0;\">\n",
    "\n",
    "Here are the summary statistics for the main numerical columns in the product properties dataset:\n",
    "\n",
    "- The minimum value for **`Depth m`**, **`Width m`** and **`Length m`** is 0.001, reflecting only realistic, positive measurements.\n",
    "- **Weight kg** varies widely, with a minimum of 0.35 kg and a maximum of 32.7 kg.\n",
    "- **Delivery time days** and **Price quantity** have very limited variation, with most values being the same.\n",
    "- **Counts** for each column reflect the number of non-missing, valid entries after cleaning.\n",
    "\n",
    "</div>\n"
   ]
  },
  {
   "cell_type": "code",
   "execution_count": null,
   "id": "73fd7dbf-0dc3-4c92-b8f9-a03212d08d02",
   "metadata": {},
   "outputs": [],
   "source": [
    "dupCount, dupRows = getDuplicateReport(cleanProductPropertiesDf, ['Articlenumber', 'Manufacturernumber'])\n",
    "dupCount"
   ]
  },
  {
   "cell_type": "markdown",
   "id": "7b296eca-a361-4888-97f9-83e1693dd173",
   "metadata": {},
   "source": [
    "<div style=\"background-color: #f5f5f5; border-left: 4px solid #3498db; padding: 12px; margin-bottom: 18px; border-radius: 0 8px 8px 0;\">\n",
    " \n",
    "- Each product-manufacturer pair is unique in the dataset.  \n",
    "- This ensures data integrity and prevents issues during joins or further analysis.\n",
    "\n",
    "</div>"
   ]
  },
  {
   "cell_type": "code",
   "execution_count": null,
   "id": "755b2689-4578-40a0-baea-04b6f3ed12a0",
   "metadata": {},
   "outputs": [],
   "source": [
    "cleanProductPropertiesDf"
   ]
  },
  {
   "cell_type": "markdown",
   "id": "9c6a6d1f-a591-4cb0-8d48-8b86af49dc78",
   "metadata": {},
   "source": [
    "<div style=\"background-color: #fff0f0; border-left: 4px solid #3498db; padding: 15px; margin-bottom: 20px; border-radius: 0 8px 8px 0;\">\n",
    "\n",
    "### Data Integration\n",
    "</div>"
   ]
  },
  {
   "cell_type": "code",
   "execution_count": null,
   "id": "f1cd8453-e62a-4569-a7a4-59ed4ee35e9c",
   "metadata": {},
   "outputs": [],
   "source": [
    "finalDf = mergeCatalogTables(cleanProductDescriptionsDf, cleanProductPropertiesDf, cleanManufacturersDf)\n",
    "finalDf.shape"
   ]
  },
  {
   "cell_type": "markdown",
   "id": "0ccce7c5-aef9-4f9b-a2c3-8641a3209ebf",
   "metadata": {},
   "source": [
    "<div style=\"background-color: #f5f5f5; border-left: 4px solid #3498db; padding: 12px; margin-bottom: 18px; border-radius: 0 8px 8px 0;\">\n",
    "\n",
    "To prepare a comprehensive dataset for analysis, I performed the following joins:\n",
    "\n",
    "1. **Join product_properties with product_descriptions**  \n",
    "   - **Key:** `Articlenumber`  \n",
    "   - **Type:** Inner join  \n",
    "   - **Purpose:** Combine technical product details with multilingual product descriptions.\n",
    "<br>\n",
    "<br>\n",
    "2. **Join the result with manufacturers**  \n",
    "   - **Key:** `Manufacturernumber`  \n",
    "   - **Type:** Inner join  \n",
    "   - **Purpose:** Add manufacturer information to each product entry.\n",
    "\n",
    "\n",
    "- All records in the final dataset have valid `Articlenumber` and `Manufacturernumber` values.\n",
    "- The use of inner joins ensures that only records with matching keys in all datasets are retained, so no data is lost due to missing references.\n",
    "\n",
    "</div>"
   ]
  },
  {
   "cell_type": "markdown",
   "id": "6a1eb983-4251-473f-b37a-0c52f27befc1",
   "metadata": {},
   "source": [
    "<div style=\"background-color: #fff0f0; border-left: 4px solid #3498db; padding: 15px; margin-bottom: 20px; border-radius: 0 8px 8px 0;\">\n",
    "\n",
    "### Dataset Initial Exploration\n",
    "</div>"
   ]
  },
  {
   "cell_type": "code",
   "execution_count": null,
   "id": "758892a5-0dad-4e00-ad0b-e8d4e4ce24d7",
   "metadata": {},
   "outputs": [],
   "source": [
    "finalDf.head(2).style.background_gradient(cmap='Pastel1')"
   ]
  },
  {
   "cell_type": "code",
   "execution_count": null,
   "id": "93c7722e-b329-4054-b585-5a7e3b522194",
   "metadata": {},
   "outputs": [],
   "source": [
    "finalDf.tail(2).style.background_gradient(cmap='Pastel1')"
   ]
  },
  {
   "cell_type": "code",
   "execution_count": null,
   "id": "585187aa-67e3-4518-b1f6-0b1a62cef2b2",
   "metadata": {},
   "outputs": [],
   "source": [
    "logger.info(\"The Dataset contains %d rows & %d columns\", finalDf.shape[0], finalDf.shape[1])"
   ]
  },
  {
   "cell_type": "code",
   "execution_count": null,
   "id": "6b8bec3f-7c52-4041-90db-19e2048527ac",
   "metadata": {},
   "outputs": [],
   "source": [
    "printDatasetInfo(finalDf)"
   ]
  },
  {
   "cell_type": "markdown",
   "id": "f86d2e03-81a2-4eb2-8a67-4374975eabc6",
   "metadata": {},
   "source": [
    "<div style=\"background-color: #f5f5f5; border-left: 4px solid #3498db; padding: 12px; margin-bottom: 18px; border-radius: 0 8px 8px 0;\">\n",
    "\n",
    "After joining all relevant tables, the final dataset contains **308 records** and **19 columns**. Here is an overview of the data structure and completeness:\n",
    "\n",
    "- All join keys (`Articlenumber`, `Manufacturernumber`) and manufacturer names are present for every record.\n",
    "- Most technical and descriptive fields are well-populated, but some columns (e.g., `Delivery time days`, `ETIM Features`, `Short description 2`) have significant missing values.\n",
    "</div>"
   ]
  },
  {
   "cell_type": "markdown",
   "id": "b1ffcb21-433b-44c9-95a1-025b26a90219",
   "metadata": {},
   "source": [
    "<div style=\"background-color: #fff0f0; border-left: 4px solid #3498db; padding: 15px; margin-bottom: 20px; border-radius: 0 8px 8px 0;\">\n",
    "\n",
    "### Data Cleaning and Preprocessing\n",
    "</div>"
   ]
  },
  {
   "cell_type": "markdown",
   "id": "917b1662-c13e-476a-a9a5-0ec7843dcd59",
   "metadata": {},
   "source": [
    "<div style=\"background-color: #fff4e6; border-left: 4px solid #3498db; padding: 15px; margin-bottom: 20px; border-radius: 0 8px 8px 0;\">\n",
    "\n",
    "### Duplicate Analysis\n",
    "</div>"
   ]
  },
  {
   "cell_type": "code",
   "execution_count": null,
   "id": "50d06356-e1ac-4dad-88bf-0565551c6156",
   "metadata": {},
   "outputs": [],
   "source": [
    "dupCount, dupRows = getDuplicateReport(finalDf, ['Articlenumber'])\n",
    "dupCount"
   ]
  },
  {
   "cell_type": "code",
   "execution_count": null,
   "id": "de20bddb-ac3c-47e4-9364-03eaf121544e",
   "metadata": {},
   "outputs": [],
   "source": [
    "dupRows[['Articlenumber', 'Short description', 'Short description 2',\t'Long description', 'Language',]].sort_values('Articlenumber')"
   ]
  },
  {
   "cell_type": "markdown",
   "id": "587082ab-4a8b-474a-807a-5bb66707aee8",
   "metadata": {},
   "source": [
    "<div style=\"background-color: #f5f5f5; border-left: 4px solid #3498db; padding: 12px; margin-bottom: 18px; border-radius: 0 8px 8px 0;\">\n",
    "\n",
    "During data quality assessment, I identified **27 duplicate entries** in the `Articlenumber` column of the final dataset.\n",
    "\n",
    "### Example of Duplicate Entries\n",
    "\n",
    "| Articlenumber | Short description (de/en)         | Short description 2 | Long description | Language |\n",
    "|---------------|-----------------------------------|---------------------|------------------|----------|\n",
    "| 06012B4001    | Cordless straight grinder GGS 18V-10 SLC (en) <br> Akku-Geradschleifer GGS 18V-10 SLC (de) | GGS 18V-10 SLC (C) | (de has full text, en is NaN) | en/de |\n",
    "| 06014A3100    | Radio GPB 18V-2 SC (en) <br> (NaN) (de)          | GPB 18V-2 SC (C) CLC | (de has full text, en is NaN) | en/de |\n",
    "| 06016B4000    | Akku-Tauchsäge BITURBO GKT 18V-52 GC in L-BOXX (de) <br> Cordless plunge saw BITURBO GKT 18V-52 GC in L-BOXX (en) | GKT 18V-52 GC (L) solo CLC | (de has full text, en is NaN) | de/en |\n",
    "\n",
    "- **Some product (`Articlenumber`) appears once per language.**\n",
    "- These are **not true duplicates** in the sense of redundant data; rather, they represent **multilingual product records**.\n",
    "- The presence of both German and English versions for each product is intentional and valuable for supporting internationalization and localization.\n",
    "\n",
    "### Recommendation\n",
    "\n",
    "- **No action is needed** to remove these records unless a truly unique, language-agnostic product list is required.\n",
    "- For language-specific analysis or display, filter by the `Language` column as needed.\n",
    "- If a unique product list is required (one row per `Articlenumber`), aggregate or select the desired language version."
   ]
  },
  {
   "cell_type": "markdown",
   "id": "8d0d3d7b-0a19-4a98-b744-4066ac8d8e96",
   "metadata": {},
   "source": [
    "<div style=\"background-color: #fff0f0; border-left: 4px solid #3498db; padding: 15px; margin-bottom: 20px; border-radius: 0 8px 8px 0;\">\n",
    "\n",
    "### Descriptive Statistics and Data Quality Assessment\n",
    "</div>"
   ]
  },
  {
   "cell_type": "code",
   "execution_count": null,
   "id": "e4dd5e3b-63ed-41f1-9842-2ed97aba3df8",
   "metadata": {},
   "outputs": [],
   "source": [
    "describeNumerics(finalDf).T.style.background_gradient(cmap='Pastel2')"
   ]
  },
  {
   "cell_type": "markdown",
   "id": "e8de6919-06d6-40d6-9cc1-1d068f8ea89b",
   "metadata": {},
   "source": [
    "<div style=\"background-color: #f5f5f5; border-left: 4px solid #3498db; padding: 12px; margin-bottom: 18px; border-radius: 0 8px 8px 0;\">\n",
    "\n",
    "I calculated comprehensive descriptive statistics for all numeric columns in the final analytical dataset, including **mean, standard deviation, min, max, quartiles, median, mode, and range**.\n",
    "\n",
    "- **Product dimensions** (`Depth m`, `Width m`, `Length m`) and **weight** show a wide range, indicating significant variety in the product catalog.\n",
    "- **Delivery time days** and **price quantity** have very limited variation, with most values being the same.\n",
    "- **Median and mode** values are very close to the quartiles, suggesting a somewhat symmetrical distribution for most numeric fields.\n",
    "- The **range** for `Weight kg` (32.35 kg) highlights a few very heavy products compared to the rest.\n",
    "\n",
    "This summary provides a clear statistical overview of the numeric fields in the final dataset, supporting further analysis and visualization.\n",
    "\n",
    "</div>"
   ]
  },
  {
   "cell_type": "markdown",
   "id": "720efc2f-cd2f-42aa-a040-a0756f54559a",
   "metadata": {},
   "source": [
    "<div style=\"background-color: #fff0f0; border-left: 4px solid #3498db; padding: 15px; margin-bottom: 20px; border-radius: 0 8px 8px 0;\">\n",
    "\n",
    "### Feature Engineering\n",
    "</div>"
   ]
  },
  {
   "cell_type": "code",
   "execution_count": null,
   "id": "5066758d-4178-493c-8920-fc651bac5d9d",
   "metadata": {},
   "outputs": [],
   "source": [
    "engineeredDf = finalDf.copy()"
   ]
  },
  {
   "cell_type": "code",
   "execution_count": null,
   "id": "01f6465e-fa8f-4f43-90c7-f4507d02f255",
   "metadata": {},
   "outputs": [],
   "source": [
    "engineeredDf = engineerFeatures(engineeredDf)"
   ]
  },
  {
   "cell_type": "markdown",
   "id": "1d5653ad-7183-45ec-acdf-5c2a3b022149",
   "metadata": {
    "jp-MarkdownHeadingCollapsed": true
   },
   "source": [
    "<div style=\"background-color: #fff0f0; border-left: 4px solid #3498db; padding: 15px; margin-bottom: 20px; border-radius: 0 8px 8px 0;\">\n",
    "\n",
    "### Exploratory Data Analysis (EDA) and Visualization\n",
    "</div>"
   ]
  },
  {
   "cell_type": "markdown",
   "id": "8d501056-3027-4b6b-8edd-6835f8f7ab4b",
   "metadata": {},
   "source": [
    "<div style=\"background-color: #fff4e6; border-left: 4px solid #3498db; padding: 15px; margin-bottom: 20px; border-radius: 0 8px 8px 0;\">\n",
    "\n",
    "### Correlation Analysis of Numeric Features\n",
    "</div>"
   ]
  },
  {
   "cell_type": "code",
   "execution_count": null,
   "id": "dff02bdb-5e96-4372-884f-c343d4797982",
   "metadata": {},
   "outputs": [],
   "source": [
    "plotCorrelationHeatmap(engineeredDf)"
   ]
  },
  {
   "cell_type": "markdown",
   "id": "b42effbc-b098-496f-bc9a-f7e1a253f9ca",
   "metadata": {},
   "source": [
    "<div style=\"background-color: #f5f5f5; border-left: 4px solid #3498db; padding: 12px; margin-bottom: 18px; border-radius: 0 8px 8px 0;\">\n",
    "\n",
    "The table summarizes the correlation coefficients between all numeric columns in the dataset. Values close to 1 indicate a strong positive relationship, values close to -1 indicate a strong negative relationship, and values near 0 suggest no linear correlation.\n",
    "\n",
    "- Product dimensions and weight are moderately to strongly positively correlated.\n",
    "- Product volume (`Volume_m3`) is highly correlated with all three dimensions and weight.\n",
    "- `Delivery time days` shows strong negative correlations with all size-related features, but this should be interpreted with caution due to the very small sample size for delivery time.\n",
    "</div>"
   ]
  },
  {
   "cell_type": "markdown",
   "id": "86a868d7-892b-459c-b900-bff677799fd7",
   "metadata": {},
   "source": [
    "<div style=\"background-color: #fff4e6; border-left: 4px solid #3498db; padding: 15px; margin-bottom: 20px; border-radius: 0 8px 8px 0;\">\n",
    "\n",
    "### Frequencies and Distributions of Variables\n",
    "</div>"
   ]
  },
  {
   "cell_type": "code",
   "execution_count": null,
   "id": "709b9e53-5a0d-4c1f-a07f-38f820dcef7c",
   "metadata": {},
   "outputs": [],
   "source": [
    "plotFrequencyGridSmart(engineeredDf, title=\"Frequencies and Distributions of Variables\")"
   ]
  },
  {
   "cell_type": "markdown",
   "id": "e2c4487a-0e77-4cde-8ef2-c124ca57b9b1",
   "metadata": {},
   "source": [
    "<div style=\"background-color: #f5f5f5; border-left: 4px solid #3498db; padding: 12px; margin-bottom: 18px; border-radius: 0 8px 8px 0;\">\n",
    "\n",
    "The visualizations above provide an overview of the frequencies and distributions for both numeric and categorical variables in the dataset.\n",
    "\n",
    "### **Numeric Variables**\n",
    "- **EAN:** Most products cluster around a few EAN values, indicating possible batches or product families.\n",
    "- **Depth m, Width m, Length m:** These dimensions show right-skewed distributions, with most products being relatively compact and a few much larger items.\n",
    "- **Weight kg:** Also right-skewed, with most products under 10 kg and a few heavy outliers.\n",
    "- **Delivery time days:** Very limited variation, with most products having a delivery time of 4 or 5 days.\n",
    "- **Volume_m3:** Most products have a small volume, with a long tail for larger items.\n",
    "\n",
    "### **Categorical Variables**\n",
    "- **Type of product:** Nearly all products are labeled as \"main product\".\n",
    "- **Price quantity:** All products have a price quantity of 1, indicating unit-based pricing.\n",
    "- **ETIM:** A few ETIM codes dominate, suggesting a concentration in certain product categories.\n",
    "- **Language:** The majority of entries are in German (`de`), with a smaller portion in English (`en`).\n",
    "- **Manufacturername:** \"BOSCH\" and \"FEIN\" are the most common manufacturers.\n",
    "- **Product_length_category:** Most products fall into the \"Medium\" category, with fewer \"Small\" and \"Large\" items.\n",
    "\n",
    "</div>"
   ]
  },
  {
   "cell_type": "markdown",
   "id": "8cb4f0e8-cf97-4280-b355-2278ffa4773d",
   "metadata": {},
   "source": [
    "<div style=\"background-color: #fff4e6; border-left: 4px solid #3498db; padding: 15px; margin-bottom: 20px; border-radius: 0 8px 8px 0;\">\n",
    "\n",
    "### Outlier Detection and Handling\n",
    "</div>"
   ]
  },
  {
   "cell_type": "code",
   "execution_count": null,
   "id": "74275551-c935-479d-a468-d61975d3cab9",
   "metadata": {},
   "outputs": [],
   "source": [
    "plotBoxplotGrid(engineeredDf, title=\"Outliers Detection in Variables\")"
   ]
  },
  {
   "cell_type": "markdown",
   "id": "a296dd2d-0a20-4b0c-b96e-c571c6b2a365",
   "metadata": {},
   "source": [
    "<div style=\"background-color: #f5f5f5; border-left: 4px solid #3498db; padding: 12px; margin-bottom: 18px; border-radius: 0 8px 8px 0;\">\n",
    "\n",
    "During the data exploration phase, several outliers were detected in the numeric columns (e.g., product dimensions, weight, and volume). Upon closer inspection, I verified that these outlier values are legitimate and correspond to actual products in the dataset.\n",
    "\n",
    "Since the goal of this project is **insight generation and descriptive analysis**, there is no need to remove or adjust these outliers. In fact, retaining them provides a more accurate and comprehensive view of the product assortment, capturing the full diversity of the catalog.\n",
    "\n",
    "- All outliers are kept in the dataset.\n",
    "- Insights and visualizations will be based on the complete, unfiltered data to ensure transparency and business relevance.\n",
    "\n",
    "This approach ensures that the analysis reflects real-world product variety and supports meaningful business conclusions.\n",
    "\n",
    "</div>"
   ]
  },
  {
   "cell_type": "code",
   "execution_count": null,
   "id": "bd3437b7-b477-4e66-931d-708f3fb482cd",
   "metadata": {},
   "outputs": [],
   "source": [
    "engineeredDf.to_csv(outputCleanedFile, index=False)"
   ]
  },
  {
   "cell_type": "markdown",
   "id": "52be18c0-26e2-43d0-a63e-60d3e85eb416",
   "metadata": {},
   "source": [
    "<div style=\"background-color: #e8f4f8; border-left: 4px solid #3498db; padding: 18px; margin-bottom: 24px; border-radius: 0 8px 8px 0;\">\n",
    "\n",
    "## <span style=\"color:#2980b9;\">Conclusion</span>\n",
    "\n",
    "This notebook provided a thorough, Python-based exploration and assessment of product catalog data quality, integrating product properties, descriptions, and manufacturer information. Using a combination of data cleaning, feature engineering, and descriptive analytics, I systematically evaluated the completeness and consistency of key product attributes across the catalog.\n",
    "\n",
    "**Key achievements include:**\n",
    "\n",
    "- Rigorous data cleaning and normalization, including the removal of fully empty columns and the handling of invalid or missing values in both categorical and numeric fields.\n",
    "- Validation of unique product-manufacturer combinations, ensuring robust joins and reliable downstream analysis.\n",
    "- Comprehensive descriptive statistics and visualizations, revealing the distribution, diversity, and interrelationships among product attributes.\n",
    "- Feature engineering to create new analytical perspectives, such as product length categories and volumetric calculations.\n",
    "- Careful investigation of outliers, confirming their legitimacy and retaining them to preserve the true diversity of the product range.\n",
    "- Identification of data quality gaps, especially in fields like ETIM classification, delivery time, and certain product dimensions, highlighting areas for potential enrichment.\n",
    "\n",
    "This analysis equips business stakeholders with actionable insights to prioritize data quality improvements, optimize product information management, and enhance the discoverability and utility of the product catalog. The workflow demonstrated here can be readily adapted for continuous monitoring and iterative enhancement of catalog data quality.\n",
    "\n",
    "**Next steps:**  \n",
    "The cleaned and enriched dataset is now ready for advanced SQL queries, dashboarding in Power BI, and further business analysis. Stakeholders can use these insights to guide targeted data enrichment, monitor catalog completeness over time, and support data-driven decision-making across product management, logistics, and marketing functions.\n",
    "</div>"
   ]
  }
 ],
 "metadata": {
  "kernelspec": {
   "display_name": "Python 3 (ipykernel)",
   "language": "python",
   "name": "python3"
  },
  "language_info": {
   "codemirror_mode": {
    "name": "ipython",
    "version": 3
   },
   "file_extension": ".py",
   "mimetype": "text/x-python",
   "name": "python",
   "nbconvert_exporter": "python",
   "pygments_lexer": "ipython3",
   "version": "3.9.0"
  }
 },
 "nbformat": 4,
 "nbformat_minor": 5
}
