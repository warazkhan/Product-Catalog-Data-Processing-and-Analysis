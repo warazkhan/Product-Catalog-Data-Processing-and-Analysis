{
 "cells": [
  {
   "cell_type": "code",
   "execution_count": null,
   "metadata": {},
   "outputs": [],
   "source": [
    "import pandas as pd\n",
    "from pandasql import PandaSQL\n",
    "\n",
    "# Sample DataFrame\n",
    "data = {\n",
    "    \"name\": [\"Sara\", \"Oliver\", \"Molly\", \"Tom\", \"Alice\",],\n",
    "    \"age\": [30, 25, 35, 40, 45],\n",
    "}\n",
    "\n",
    "df = pd.DataFrame(data)\n",
    "\n",
    "# Create a PandaSQL instance\n",
    "pandasql_instance = PandaSQL()\n",
    "\n",
    "# Define the SQL query\n",
    "query = \"SELECT * FROM df WHERE age > 30\"\n",
    "\n",
    "# Run the SQL query using the PandaSQL instance\n",
    "result_df = pandasql_instance(query, locals())\n",
    "\n",
    "# Show the result\n",
    "print(result_df)"
   ]
  }
 ],
 "metadata": {
  "kernelspec": {
   "display_name": "venv",
   "language": "python",
   "name": "python3"
  },
  "language_info": {
   "codemirror_mode": {
    "name": "ipython",
    "version": 3
   },
   "file_extension": ".py",
   "mimetype": "text/x-python",
   "name": "python",
   "nbconvert_exporter": "python",
   "pygments_lexer": "ipython3",
   "version": "3.10.12"
  }
 },
 "nbformat": 4,
 "nbformat_minor": 2
}
